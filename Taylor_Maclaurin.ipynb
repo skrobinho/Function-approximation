{
 "cells": [
  {
   "cell_type": "markdown",
   "metadata": {},
   "source": [
    "# Wyznaczanie funkcji aproksymującej przy wykorzystaniu szergów Taylora i Maclaurina"
   ]
  },
  {
   "cell_type": "code",
   "execution_count": null,
   "metadata": {},
   "outputs": [],
   "source": [
    "import math\n",
    "import numpy as np\n",
    "from sympy import symbols, lambdify, sympify, diff, evalf, expand\n",
    "from sympy.plotting import plot"
   ]
  },
  {
   "cell_type": "code",
   "execution_count": null,
   "metadata": {},
   "outputs": [],
   "source": [
    "stopien = int(input(\"Stopien wielomianu aproksymacyjnego: \"))\n",
    "a = sympify(input(\"Granica dolna przedzialu: \"))\n",
    "b = sympify(input(\"Granica gorna przedzialu: \"))\n",
    "f = sympify(input(\"Funkcja pierwotna: \"))\n",
    "x0 = sympify(input(\"Punkt x0: \"))"
   ]
  },
  {
   "cell_type": "code",
   "execution_count": null,
   "metadata": {},
   "outputs": [],
   "source": [
    "x, e, pi = symbols('x e pi') # definicja x i e jako zmiennych\n",
    "f = f.subs(e, math.e).subs(pi, math.pi)\n",
    "a = float(a.subs(e, math.e).subs(pi, math.pi))\n",
    "b = float(b.subs(e, math.e).subs(pi, math.pi))\n",
    "x0 = x0.subs(e, math.e).subs(pi, math.pi)\n",
    "\n",
    "ylim1 = f.subs(x,a) # wartość funkcji f w punkcie a\n",
    "ylim2 = f.subs(x,b)\n",
    "\n",
    "if ylim2>ylim1:\n",
    "    ylim1 = 0.9*ylim1\n",
    "    ylim2 = 1.1*ylim2\n",
    "else:\n",
    "    ylim2 = 0.9*ylim2\n",
    "    ylim1 = 1.1*ylim1"
   ]
  },
  {
   "cell_type": "code",
   "execution_count": null,
   "metadata": {},
   "outputs": [],
   "source": [
    "def szeregTaylora():\n",
    "    w = f.subs(x,x0)\n",
    "    fx = f\n",
    "    \n",
    "    for k in range(1, stopien+1):\n",
    "        fx = diff(fx, x) \n",
    "        w += fx.subs(x, x0)/math.factorial(k)*(x-x0)**k\n",
    "    \n",
    "    w = expand(w.evalf())\n",
    "    \n",
    "    if ylim2>ylim1:\n",
    "        p1 = plot(f, xlim=(a,b), ylim=(float(ylim1), float(ylim2)), axis_center=(0,0), show=False)\n",
    "        p2 = plot(w, xlim=(a,b), ylim=(float(ylim1), float(ylim2)), axis_center=(0,0), show=False, line_color='red')\n",
    "    else:\n",
    "        p1 = plot(f, xlim=(a,b), ylim=(float(ylim2), float(ylim1)), axis_center=(0,0), show=False)\n",
    "        p2 = plot(w, xlim=(a,b), ylim=(float(ylim2), float(ylim1)), axis_center=(0,0), show=False, line_color='red')\n",
    "    \n",
    "    p1.extend(p2)\n",
    "    p1.show()\n",
    "    \n",
    "    return w\n",
    "\n",
    "def szeregMaclaurina():\n",
    "    x0 = 0\n",
    "    w = f.subs(x,x0)\n",
    "    fx = f\n",
    "    \n",
    "    \n",
    "    for k in range(1, stopien+1):\n",
    "        fx = diff(fx, x) \n",
    "        w += fx.subs(x, x0)/math.factorial(k)*(x-x0)**k\n",
    "    \n",
    "    w = expand(w.evalf())\n",
    "    \n",
    "    if ylim2>ylim1:\n",
    "        p1 = plot(f, xlim=(a,b), ylim=(float(ylim1), float(ylim2)), axis_center=(0,0), show=False)\n",
    "        p2 = plot(w, xlim=(a,b), ylim=(float(ylim1), float(ylim2)), axis_center=(0,0), show=False, line_color='red')\n",
    "    else:\n",
    "        p1 = plot(f, xlim=(a,b), ylim=(float(ylim2), float(ylim1)), axis_center=(0,0), show=False)\n",
    "        p2 = plot(w, xlim=(a,b), ylim=(float(ylim2), float(ylim1)), axis_center=(0,0), show=False, line_color='red')\n",
    "    \n",
    "    p1.extend(p2)\n",
    "    p1.show()\n",
    "        \n",
    "    return w"
   ]
  },
  {
   "cell_type": "code",
   "execution_count": null,
   "metadata": {},
   "outputs": [],
   "source": [
    "szeregTaylora()"
   ]
  },
  {
   "cell_type": "code",
   "execution_count": null,
   "metadata": {},
   "outputs": [],
   "source": [
    "szeregMaclaurina()"
   ]
  },
  {
   "cell_type": "code",
   "execution_count": null,
   "metadata": {},
   "outputs": [],
   "source": []
  }
 ],
 "metadata": {
  "kernelspec": {
   "display_name": "Python 3",
   "language": "python",
   "name": "python3"
  },
  "language_info": {
   "codemirror_mode": {
    "name": "ipython",
    "version": 3
   },
   "file_extension": ".py",
   "mimetype": "text/x-python",
   "name": "python",
   "nbconvert_exporter": "python",
   "pygments_lexer": "ipython3",
   "version": "3.7.1"
  }
 },
 "nbformat": 4,
 "nbformat_minor": 2
}
