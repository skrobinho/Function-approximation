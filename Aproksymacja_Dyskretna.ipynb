{
 "cells": [
  {
   "cell_type": "markdown",
   "metadata": {},
   "source": [
    "# Wyznaczanie funkcji aproksymującej przy wykorzystaniu aproksymacji średniokwardratowej dyskretnej i ortogonalizacji Grama-Schmidta"
   ]
  },
  {
   "cell_type": "markdown",
   "metadata": {},
   "source": [
    "## Poszukiwany jest wielomian ugólniony:\n",
    "![title](img/1.png)\n",
    "## który minimalizuje odległość: \n",
    "![title](img/2a.png)\n",
    "## Przy ustalonej postaci funkcji bazowych oznacza to poszukiwanie współczynników a0, a1, ..., am wielomianu, które minimalizują wartość wyrażenia:\n",
    "![title](img/3a.png)\n",
    "## Powstaje układ m+1 równań:\n",
    "![title](img/4a.png)\n",
    "## Przy założeniu, że funkcje bazowe są jednomianami, a funkcja wagowa w(x) ≡ 1, powstaje układ równań:\n",
    "![title](img/5a.png)\n",
    "## Po przyjęciu poniższych oznaczeń przyjumuje on następującą postać:\n",
    "![title](img/6a.png)\n",
    "## Ortogonalizacja Grama-Schmidta\n",
    "![title](img/7.png)\n",
    "## Współczynniki w aproksymacji z wykorzystaniem G-S przyjmują wartości:\n",
    "![title](img/8.png)"
   ]
  },
  {
   "cell_type": "code",
   "execution_count": null,
   "metadata": {},
   "outputs": [],
   "source": [
    "import numpy as np\n",
    "from sympy import symbols, lambdify\n",
    "import matplotlib.pyplot as plt"
   ]
  },
  {
   "cell_type": "code",
   "execution_count": null,
   "metadata": {},
   "outputs": [],
   "source": [
    "stopien = int(input(\"Stopien wielomianu aproksymacyjnego: \"))\n",
    "xi = [float(x) for x in input(\"Wartości xi: \").split()]\n",
    "yi = [float(x) for x in input(\"Wartości f(xi): \").split()]\n",
    "\n",
    "if len(xi) != len(yi):\n",
    "    print(\"\\nRóżna liczba argumentów i wartości funkcji! Wprowadź dane ponownie.\")"
   ]
  },
  {
   "cell_type": "code",
   "execution_count": null,
   "metadata": {},
   "outputs": [],
   "source": [
    "x = symbols('x') # definicja x jako zmiennej\n",
    "\n",
    "# funkcja, która zwraca wynik, dla  funkcji stałej, lambdify z biblioteki sympy w postaci np.array, a nie pojedynczego elementu\n",
    "# przykład lambdify(x, 2)(xii) = 2, natomiast np_lambdify(x, 2)(xii) = [2., 2., ..., 2.]\n",
    "def np_lambdify(varname, func):\n",
    "    lamb = lambdify(varname, func, modules=['numpy'])\n",
    "    if func.is_constant():\n",
    "        return lambda t: np.full_like(t, lamb(t))\n",
    "    else:\n",
    "        return lambda t: lamb(np.array(t))\n",
    "\n",
    "def aproksymacjaDyskretna():\n",
    "    s = np.array([])\n",
    "    t = np.array([])\n",
    "    \n",
    "    for k in range (0, stopien+1):\n",
    "        for j in range (0, stopien+1):\n",
    "            s = np.append(s, np.sum(np.power(xi, j+k))) \n",
    "            \n",
    "    s = s.reshape(stopien+1, stopien+1) # macierz s\n",
    "    \n",
    "    for k in range (0, stopien+1):\n",
    "        t = np.append(t, np.sum(np.multiply(np.power(xi, k), yi))) # wektor t\n",
    "        \n",
    "    s1 = np.linalg.inv(s) # macierz odwrotna macierzy s\n",
    "    a = np.dot(s1,t) # wektor współczynników\n",
    "    \n",
    "    g = 0\n",
    "    \n",
    "    for i in range (0, len(a)):\n",
    "        g += a[i]*x**i # funkcja aproksymacyjna g\n",
    "    \n",
    "    xx = np.linspace(xi[0]*0.9, xi[-1]*1.1, 1000) \n",
    "    yy = lambdify(x, g)(xx)\n",
    "    \n",
    "    plt.plot(xx, np.transpose(yy))\n",
    "    plt.plot(xi, yi, '.')\n",
    "    plt.show()\n",
    "\n",
    "    return g\n",
    "\n",
    "def aproksymacjaDyskretnaGS():\n",
    "    v = np.array([])\n",
    "    w = np.array([])\n",
    "    v = np.append(v, 1)\n",
    "    w = np.append(w, x**0)\n",
    "    \n",
    "    xii = np.array(xi) # przekształcam listę na np.array, żeby móc skorzystać z niej w operacji lambdify\n",
    "    yii = np.array(yi)\n",
    "        \n",
    "    for k in range(2, stopien+2):\n",
    "        v = np.append(v, x**(k-1))\n",
    "        w = np.append(w, x**(k-1))\n",
    "        for j in range(1, k):\n",
    "            w[k-1] -= np.sum(np.multiply(lambdify(x, v[k-1])(xii), lambdify(x, w[j-1])(xii))) / np.sum(np.power(np_lambdify(x, w[j-1])(xii), 2)) * w[j-1]\n",
    "    \n",
    "    l = np.array([]) # iloczyny skalarne (w|g)\n",
    "    c = np.array([]) # współczynniki przy w\n",
    "    g = 0\n",
    "\n",
    "    for i in range(0, stopien+1):\n",
    "        l = np.append(l, np.sum(np.multiply(lambdify(x, w[i])(xii), yii)))\n",
    "        c = np.append(c, l[i] / np.sum(np.power(np_lambdify(x, w[i])(xii), 2)))\n",
    "        g += c[i] * w[i]\n",
    "    \n",
    "    xx = np.linspace(xi[0]*0.9, xi[-1]*1.1, 1000)\n",
    "    yy = lambdify(x, g)(xx)\n",
    "    \n",
    "    plt.plot(xx, np.transpose(yy))\n",
    "    plt.plot(xi, yi, '.')\n",
    "    plt.show()\n",
    "    \n",
    "    return g"
   ]
  },
  {
   "cell_type": "code",
   "execution_count": null,
   "metadata": {},
   "outputs": [],
   "source": [
    "aproksymacjaDyskretna()"
   ]
  },
  {
   "cell_type": "code",
   "execution_count": null,
   "metadata": {},
   "outputs": [],
   "source": [
    "aproksymacjaDyskretnaGS()"
   ]
  },
  {
   "cell_type": "code",
   "execution_count": null,
   "metadata": {},
   "outputs": [],
   "source": []
  }
 ],
 "metadata": {
  "kernelspec": {
   "display_name": "Python 3",
   "language": "python",
   "name": "python3"
  },
  "language_info": {
   "codemirror_mode": {
    "name": "ipython",
    "version": 3
   },
   "file_extension": ".py",
   "mimetype": "text/x-python",
   "name": "python",
   "nbconvert_exporter": "python",
   "pygments_lexer": "ipython3",
   "version": "3.7.1"
  }
 },
 "nbformat": 4,
 "nbformat_minor": 2
}
