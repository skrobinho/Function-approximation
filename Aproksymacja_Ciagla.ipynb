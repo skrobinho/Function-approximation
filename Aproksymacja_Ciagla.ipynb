{
 "cells": [
  {
   "cell_type": "markdown",
   "metadata": {},
   "source": [
    "# Wyznaczanie funkcji aproksymującej przy wykorzystaniu aproksymacji średniokwardratowej ciągłej i ortogonalizacji Grama-Schmidta"
   ]
  },
  {
   "cell_type": "markdown",
   "metadata": {},
   "source": [
    "## Poszukiwany jest wielomian ugólniony:\n",
    "![title](img/1.png)\n",
    "## który minimalizuje odległość: \n",
    "![title](img/2.png)\n",
    "## Przy ustalonej postaci funkcji bazowych oznacza to poszukiwanie współczynników a0, a1, ..., am wielomianu, które minimalizują wartość wyrażenia:\n",
    "![title](img/3.png)\n",
    "## Powstaje układ m+1 równań:\n",
    "![title](img/4.png)\n",
    "## Przy założeniu, że funkcje bazowe są jednomianami, a funkcja wagowa w(x) ≡ 1, powstaje układ równań:\n",
    "![title](img/5.png)\n",
    "## Po przyjęciu poniższych oznaczeń przyjumuje on następującą postać:\n",
    "![title](img/6.png)\n",
    "## Ortogonalizacja Grama-Schmidta\n",
    "![title](img/7.png)\n",
    "## Współczynniki w aproksymacji z wykorzystaniem G-S przyjmują wartości:\n",
    "![title](img/8.png)"
   ]
  },
  {
   "cell_type": "code",
   "execution_count": null,
   "metadata": {},
   "outputs": [],
   "source": [
    "import math\n",
    "import numpy as np\n",
    "from sympy import symbols, integrate, sympify\n",
    "from sympy.plotting import plot"
   ]
  },
  {
   "cell_type": "code",
   "execution_count": null,
   "metadata": {},
   "outputs": [],
   "source": [
    "stopien = int(input(\"Stopien wielomianu aproksymacyjnego: \"))\n",
    "a = sympify(input(\"Granica dolna przedzialu: \"))\n",
    "b = sympify(input(\"Granica gorna przedzialu: \"))\n",
    "f = sympify(input(\"Funkcja pierwotna: \"))"
   ]
  },
  {
   "cell_type": "code",
   "execution_count": null,
   "metadata": {},
   "outputs": [],
   "source": [
    "x, e, pi = symbols('x e pi') # definicja x i e jako zmiennych\n",
    "f = f.subs(e, math.e).subs(pi, math.pi) # przypisanie zmiennej e wartości e\n",
    "a = float(a.subs(e, math.e).subs(pi, math.pi))\n",
    "b = float(b.subs(e, math.e).subs(pi, math.pi))\n",
    "\n",
    "ylim1 = f.subs(x,a) # wartość funkcji f w punkcie a\n",
    "ylim2 = f.subs(x,b)\n",
    "\n",
    "if ylim2>ylim1:\n",
    "    ylim1 = 0.9*ylim1\n",
    "    ylim2 = 1.1*ylim2\n",
    "else:\n",
    "    ylim2 = 0.9*ylim2\n",
    "    ylim1 = 1.1*ylim1"
   ]
  },
  {
   "cell_type": "code",
   "execution_count": null,
   "metadata": {},
   "outputs": [],
   "source": [
    "def aproksymacjaCiagla():\n",
    "    s = np.array([])\n",
    "    t = np.array([])\n",
    "    \n",
    "    for k in range (0, stopien+1):\n",
    "        for j in range (0, stopien+1):\n",
    "            s = np.append(s, integrate(x**(j+k), (x,a,b))) \n",
    "    \n",
    "    s = s.reshape(stopien+1, stopien+1).astype(np.float32) # macierz s\n",
    "        \n",
    "    for k in range (0, stopien+1):\n",
    "        t = np.append(t, integrate(f*x**k, (x,a,b))) # wektor t\n",
    "    \n",
    "    s1 = np.linalg.inv(s) # macierz odwrotna macierzy s\n",
    "    c = np.dot(s1,t).astype(np.float32) # wektor współczynników\n",
    "    \n",
    "    g = 0\n",
    "    \n",
    "    for i in range (0, len(c)):\n",
    "        g += c[i]*x**i # funkcja aproksymacyjna g\n",
    "    \n",
    "    # kreślenie wykresów funkcji f i g na podanym przedziale\n",
    "    if ylim2>ylim1:\n",
    "        p1 = plot(f, xlim=(a,b), ylim=(float(ylim1), float(ylim2)), axis_center=(0,0), show=False)\n",
    "        p2 = plot(g, xlim=(a,b), ylim=(float(ylim1), float(ylim2)), axis_center=(0,0), show=False, line_color='red')\n",
    "    else:\n",
    "        p1 = plot(f, xlim=(a,b), ylim=(float(ylim2), float(ylim1)), axis_center=(0,0), show=False)\n",
    "        p2 = plot(g, xlim=(a,b), ylim=(float(ylim2), float(ylim1)), axis_center=(0,0), show=False, line_color='red')\n",
    "    \n",
    "    p1.extend(p2)\n",
    "    p1.show()\n",
    "\n",
    "    return g\n",
    "\n",
    "\n",
    "def aproksymacjaCiaglaGS():\n",
    "    v = {}\n",
    "    w = {}\n",
    "    v[\"v1\"] = 1\n",
    "    w[\"w1\"] = 1\n",
    "\n",
    "    for k in range(2, stopien+2):\n",
    "        v[\"v{0}\".format(k)] = x**(k-1)\n",
    "        w[\"w{0}\".format(k)] = x**(k-1)\n",
    "        for j in range(1, k):\n",
    "            w[\"w{0}\".format(k)] -= integrate((v['v{0}'.format(k)]*w['w{0}'.format(j)]),(x,a,b)) / integrate((w['w{0}'.format(j)]**2),(x,a,b)) * w['w{0}'.format(j)]\n",
    "\n",
    "    l = {} # iloczyny skalarne (w|g)\n",
    "    c = {} # współczynniki przy w\n",
    "    g = 0\n",
    "\n",
    "    for i in range(1, stopien+2):\n",
    "        l[\"l{0}\".format(i)] = integrate((f*w['w{0}'.format(i)]),(x,a,b))\n",
    "        c[\"c{0}\".format(i)] = l[\"l{0}\".format(i)] / integrate((w['w{0}'.format(i)]**2),(x,a,b))\n",
    "        g += c[\"c{0}\".format(i)] * w[\"w{0}\".format(i)]\n",
    "\n",
    "    if ylim2>ylim1:\n",
    "        p1 = plot(f, xlim=(a,b), ylim=(float(ylim1), float(ylim2)), axis_center=(0,0), show=False)\n",
    "        p2 = plot(g, xlim=(a,b), ylim=(float(ylim1), float(ylim2)), axis_center=(0,0), show=False, line_color='red')\n",
    "    else:\n",
    "        p1 = plot(f, xlim=(a,b), ylim=(float(ylim2), float(ylim1)), axis_center=(0,0), show=False)\n",
    "        p2 = plot(g, xlim=(a,b), ylim=(float(ylim2), float(ylim1)), axis_center=(0,0), show=False, line_color='red')\n",
    "    \n",
    "    p1.extend(p2)\n",
    "    p1.show()\n",
    "    \n",
    "    return g"
   ]
  },
  {
   "cell_type": "code",
   "execution_count": null,
   "metadata": {},
   "outputs": [],
   "source": [
    "aproksymacjaCiagla()"
   ]
  },
  {
   "cell_type": "code",
   "execution_count": null,
   "metadata": {},
   "outputs": [],
   "source": [
    "aproksymacjaCiaglaGS()"
   ]
  }
 ],
 "metadata": {
  "kernelspec": {
   "display_name": "Python 3",
   "language": "python",
   "name": "python3"
  },
  "language_info": {
   "codemirror_mode": {
    "name": "ipython",
    "version": 3
   },
   "file_extension": ".py",
   "mimetype": "text/x-python",
   "name": "python",
   "nbconvert_exporter": "python",
   "pygments_lexer": "ipython3",
   "version": "3.7.11"
  }
 },
 "nbformat": 4,
 "nbformat_minor": 2
}
